{
 "cells": [
  {
   "cell_type": "code",
   "execution_count": null,
   "id": "e973e6da-6ee8-4811-a0f8-ae50a3052b38",
   "metadata": {},
   "outputs": [
    {
     "name": "stderr",
     "output_type": "stream",
     "text": [
      "[*********************100%***********************]  1 of 1 completed"
     ]
    },
    {
     "name": "stdout",
     "output_type": "stream",
     "text": [
      "Price            Close        High         Low        Open     Volume\n",
      "Date                                                                 \n",
      "2015-09-28  159.782455  163.096923  159.468011  162.986437  178515900\n",
      "2015-09-29  159.875946  161.252731  158.864609  160.003433  159045600\n",
      "2015-09-30  162.858948  163.028917  160.997749  161.788114  163452000\n",
      "2015-10-01  163.283875  163.589825  161.320697  163.241379  131079000\n",
      "2015-10-02  165.723022  165.748517  160.725832  161.278250  211003300\n",
      "...                ...         ...         ...         ...        ...\n",
      "2023-09-20  430.042236  435.728539  429.836331  435.306974   82562600\n",
      "2023-09-21  422.934326  427.424540  422.777459  427.159843  103976100\n",
      "2023-09-22  421.983307  425.591168  421.561713  423.973515  100829700\n",
      "2023-09-25  423.757874  423.797068  420.316663  420.757855   70874500\n",
      "2023-09-26  417.532318  421.395092  416.689159  420.679390   96168400\n",
      "\n",
      "[2013 rows x 5 columns]\n",
      "DatetimeIndex(['2015-09-28', '2015-09-29', '2015-09-30', '2015-10-01',\n",
      "               '2015-10-02', '2015-10-05', '2015-10-06', '2015-10-07',\n",
      "               '2015-10-08', '2015-10-09',\n",
      "               ...\n",
      "               '2023-09-13', '2023-09-14', '2023-09-15', '2023-09-18',\n",
      "               '2023-09-19', '2023-09-20', '2023-09-21', '2023-09-22',\n",
      "               '2023-09-25', '2023-09-26'],\n",
      "              dtype='datetime64[ns]', name='Date', length=2013, freq=None)\n",
      "Index(['Close', 'High', 'Low', 'Open', 'Volume'], dtype='object', name='Price')\n"
     ]
    },
    {
     "name": "stderr",
     "output_type": "stream",
     "text": [
      "\n"
     ]
    }
   ],
   "source": [
    "import pandas_datareader.data as web\n",
    "import pandas as pd\n",
    "import pandas_ta\n",
    "import numpy as np  \n",
    "import yfinance as yf\n",
    "\n",
    "\n",
    "\n",
    "sp500 = pd.read_html('https://en.wikipedia.org/wiki/List_of_S%26P_500_companies')[0]\n",
    "sp500['Symbol'] = sp500['Symbol'].str.replace('.','-')\n",
    "symbols_list = sp500['Symbol'].unique().tolist()\n",
    "to_remove = ['SOLV', 'VLTO', 'SW', 'GEV'] # Yfinance does not have legacy data for these tickers, consider reintegrating\n",
    "symbols_list = [symbol for symbol in symbols_list if symbol not in to_remove]\n",
    "\n",
    "end_date = '2025-05-01'\n",
    "start_date = pd.to_datetime(end_date) - pd.DateOffset(years=8)\n",
    "\n",
    "\n",
    "df = yf.download(tickers = 'SPY',\n",
    "                start = start_date,\n",
    "                end = end_date)\n",
    "                # .stack(future_stack=True)\n",
    "df.columns = df.columns.droplevel('Ticker')\n",
    "print(df)\n",
    "print(df.index)\n",
    "print(df.columns)"
   ]
  },
  {
   "cell_type": "code",
   "execution_count": null,
   "id": "9102f144-75ce-4ddc-8aa6-88e35f78fac3",
   "metadata": {},
   "outputs": [],
   "source": []
  }
 ],
 "metadata": {
  "kernelspec": {
   "display_name": "Python 3 (ipykernel)",
   "language": "python",
   "name": "python3"
  },
  "language_info": {
   "codemirror_mode": {
    "name": "ipython",
    "version": 3
   },
   "file_extension": ".py",
   "mimetype": "text/x-python",
   "name": "python",
   "nbconvert_exporter": "python",
   "pygments_lexer": "ipython3",
   "version": "3.10.16"
  }
 },
 "nbformat": 4,
 "nbformat_minor": 5
}
